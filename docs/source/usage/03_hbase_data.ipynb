{
 "cells": [
  {
   "cell_type": "markdown",
   "metadata": {},
   "source": [
    "# hbase data\n",
    "![hbase](https://hbase.apache.org/images/hbase_logo_with_orca_large.png)"
   ]
  },
  {
   "cell_type": "markdown",
   "metadata": {},
   "source": [
    "## 1. set hbase client"
   ]
  },
  {
   "cell_type": "code",
   "execution_count": 1,
   "metadata": {},
   "outputs": [],
   "source": [
    "import os\n",
    "\n",
    "import geopandas as gpd\n",
    "import nest_asyncio\n",
    "from dotenv import load_dotenv\n",
    "\n",
    "from h3_toolkit.core import H3Toolkit\n",
    "\n",
    "load_dotenv()\n",
    "nest_asyncio.apply()   # needed for jupyter notebook to run asyncio\n",
    "FETCH_API = os.getenv(\"HBASE_FETCH_API\")\n",
    "SEND_API = os.getenv(\"HBASE_SEND_API\")\n",
    "TOKEN = os.getenv(\"HBASE_TOKEN\")"
   ]
  },
  {
   "cell_type": "code",
   "execution_count": 2,
   "metadata": {},
   "outputs": [
    {
     "data": {
      "text/plain": [
       "<h3_toolkit.core.H3Toolkit at 0x10c0ef830>"
      ]
     },
     "execution_count": 2,
     "metadata": {},
     "output_type": "execute_result"
    }
   ],
   "source": [
    "from h3_toolkit.hbase import HBaseClient\n",
    "\n",
    "toolkit = H3Toolkit()\n",
    "toolkit.set_hbase_client(\n",
    "    HBaseClient(\n",
    "        fetch_url=FETCH_API,\n",
    "        send_url=SEND_API,\n",
    "        token = TOKEN,\n",
    "        max_concurrent_requests=5, # don't change this\n",
    "        chunk_size=200000,         # don't change this\n",
    "    )\n",
    ")"
   ]
  },
  {
   "cell_type": "markdown",
   "metadata": {},
   "source": [
    "## 2. Select boundary of the data"
   ]
  },
  {
   "cell_type": "code",
   "execution_count": 3,
   "metadata": {},
   "outputs": [
    {
     "data": {
      "text/plain": [
       "<Axes: >"
      ]
     },
     "execution_count": 3,
     "metadata": {},
     "output_type": "execute_result"
    },
    {
     "data": {
      "image/png": "[encoded data removed]",
      "text/plain": [
       "<Figure size 640x480 with 1 Axes>"
      ]
     },
     "metadata": {},
     "output_type": "display_data"
    }
   ],
   "source": [
    "gdf = gpd.read_file('data/test_geom.geojson')\n",
    "merged_geometry = gdf['geometry'].union_all()\n",
    "\n",
    "new_gdf = gpd.GeoDataFrame(geometry=[merged_geometry], crs= gdf.crs)\n",
    "new_gdf.plot(edgecolor='red', facecolor='none')"
   ]
  },
  {
   "cell_type": "code",
   "execution_count": 5,
   "metadata": {},
   "outputs": [
    {
     "data": {
      "text/html": [
       "<div><style>\n",
       ".dataframe > thead > tr,\n",
       ".dataframe > tbody > tr {\n",
       "  text-align: right;\n",
       "  white-space: pre-wrap;\n",
       "}\n",
       "</style>\n",
       "<small>shape: (5, 1)</small><table border=\"1\" class=\"dataframe\"><thead><tr><th>hex_id</th></tr><tr><td>str</td></tr></thead><tbody><tr><td>&quot;8c4ba0a406403ff&quot;</td></tr><tr><td>&quot;8c4ba0a406411ff&quot;</td></tr><tr><td>&quot;8c4ba0a406413ff&quot;</td></tr><tr><td>&quot;8c4ba0a406415ff&quot;</td></tr><tr><td>&quot;8c4ba0a406417ff&quot;</td></tr></tbody></table></div>"
      ],
      "text/plain": [
       "shape: (5, 1)\n",
       "┌─────────────────┐\n",
       "│ hex_id          │\n",
       "│ ---             │\n",
       "│ str             │\n",
       "╞═════════════════╡\n",
       "│ 8c4ba0a406403ff │\n",
       "│ 8c4ba0a406411ff │\n",
       "│ 8c4ba0a406413ff │\n",
       "│ 8c4ba0a406415ff │\n",
       "│ 8c4ba0a406417ff │\n",
       "└─────────────────┘"
      ]
     },
     "execution_count": 5,
     "metadata": {},
     "output_type": "execute_result"
    }
   ],
   "source": [
    "result = (\n",
    "    toolkit\n",
    "    .process_from_vector(\n",
    "        data = new_gdf,\n",
    "        resolution = 12,\n",
    "        geometry_col = 'geometry'\n",
    "    )\n",
    ")\n",
    "\n",
    "result.get_result().head()"
   ]
  },
  {
   "cell_type": "code",
   "execution_count": 6,
   "metadata": {},
   "outputs": [
    {
     "data": {
      "text/html": [
       "<div><style>\n",
       ".dataframe > thead > tr,\n",
       ".dataframe > tbody > tr {\n",
       "  text-align: right;\n",
       "  white-space: pre-wrap;\n",
       "}\n",
       "</style>\n",
       "<small>shape: (5, 4)</small><table border=\"1\" class=\"dataframe\"><thead><tr><th>hex_id</th><th>f_cnt</th><th>m_cnt</th><th>p_cnt</th></tr><tr><td>str</td><td>str</td><td>str</td><td>str</td></tr></thead><tbody><tr><td>&quot;8c4ba0a406403ff&quot;</td><td>&quot;0.5666666666666667&quot;</td><td>&quot;0.5666666666666667&quot;</td><td>&quot;1.1333333333333333&quot;</td></tr><tr><td>&quot;8c4ba0a406411ff&quot;</td><td>&quot;0.5666666666666667&quot;</td><td>&quot;0.5666666666666667&quot;</td><td>&quot;1.1333333333333333&quot;</td></tr><tr><td>&quot;8c4ba0a406413ff&quot;</td><td>&quot;0.5666666666666667&quot;</td><td>&quot;0.5666666666666667&quot;</td><td>&quot;1.1333333333333333&quot;</td></tr><tr><td>&quot;8c4ba0a406415ff&quot;</td><td>&quot;0.5666666666666667&quot;</td><td>&quot;0.5666666666666667&quot;</td><td>&quot;1.1333333333333333&quot;</td></tr><tr><td>&quot;8c4ba0a406417ff&quot;</td><td>&quot;0.5666666666666667&quot;</td><td>&quot;0.5666666666666667&quot;</td><td>&quot;1.1333333333333333&quot;</td></tr></tbody></table></div>"
      ],
      "text/plain": [
       "shape: (5, 4)\n",
       "┌─────────────────┬────────────────────┬────────────────────┬────────────────────┐\n",
       "│ hex_id          ┆ f_cnt              ┆ m_cnt              ┆ p_cnt              │\n",
       "│ ---             ┆ ---                ┆ ---                ┆ ---                │\n",
       "│ str             ┆ str                ┆ str                ┆ str                │\n",
       "╞═════════════════╪════════════════════╪════════════════════╪════════════════════╡\n",
       "│ 8c4ba0a406403ff ┆ 0.5666666666666667 ┆ 0.5666666666666667 ┆ 1.1333333333333333 │\n",
       "│ 8c4ba0a406411ff ┆ 0.5666666666666667 ┆ 0.5666666666666667 ┆ 1.1333333333333333 │\n",
       "│ 8c4ba0a406413ff ┆ 0.5666666666666667 ┆ 0.5666666666666667 ┆ 1.1333333333333333 │\n",
       "│ 8c4ba0a406415ff ┆ 0.5666666666666667 ┆ 0.5666666666666667 ┆ 1.1333333333333333 │\n",
       "│ 8c4ba0a406417ff ┆ 0.5666666666666667 ┆ 0.5666666666666667 ┆ 1.1333333333333333 │\n",
       "└─────────────────┴────────────────────┴────────────────────┴────────────────────┘"
      ]
     },
     "execution_count": 6,
     "metadata": {},
     "output_type": "execute_result"
    }
   ],
   "source": [
    "result = (\n",
    "    toolkit\n",
    "    .fetch_from_hbase(\n",
    "        table_name = 'res12_pre_data',\n",
    "        column_family = 'demographic',\n",
    "        column_qualifier = ['p_cnt', 'f_cnt', 'm_cnt'],\n",
    "    )\n",
    ")\n",
    "\n",
    "result.get_result().head()"
   ]
  },
  {
   "cell_type": "markdown",
   "metadata": {},
   "source": [
    "## 3. Chain all steps together"
   ]
  },
  {
   "cell_type": "code",
   "execution_count": 8,
   "metadata": {},
   "outputs": [
    {
     "data": {
      "text/html": [
       "<div>\n",
       "<style scoped>\n",
       "    .dataframe tbody tr th:only-of-type {\n",
       "        vertical-align: middle;\n",
       "    }\n",
       "\n",
       "    .dataframe tbody tr th {\n",
       "        vertical-align: top;\n",
       "    }\n",
       "\n",
       "    .dataframe thead th {\n",
       "        text-align: right;\n",
       "    }\n",
       "</style>\n",
       "<table border=\"1\" class=\"dataframe\">\n",
       "  <thead>\n",
       "    <tr style=\"text-align: right;\">\n",
       "      <th></th>\n",
       "      <th>p_cnt</th>\n",
       "      <th>geometry</th>\n",
       "    </tr>\n",
       "  </thead>\n",
       "  <tbody>\n",
       "    <tr>\n",
       "      <th>0</th>\n",
       "      <td>1.1333333333333333</td>\n",
       "      <td>POLYGON ((121.52403 25.03519, 121.52401 25.035...</td>\n",
       "    </tr>\n",
       "    <tr>\n",
       "      <th>1</th>\n",
       "      <td>1.1333333333333333</td>\n",
       "      <td>POLYGON ((121.52431 25.03532, 121.5243 25.0352...</td>\n",
       "    </tr>\n",
       "    <tr>\n",
       "      <th>2</th>\n",
       "      <td>1.1333333333333333</td>\n",
       "      <td>POLYGON ((121.52449 25.03531, 121.52447 25.035...</td>\n",
       "    </tr>\n",
       "    <tr>\n",
       "      <th>3</th>\n",
       "      <td>1.1333333333333333</td>\n",
       "      <td>POLYGON ((121.5242 25.03518, 121.52419 25.0350...</td>\n",
       "    </tr>\n",
       "    <tr>\n",
       "      <th>4</th>\n",
       "      <td>1.1333333333333333</td>\n",
       "      <td>POLYGON ((121.52438 25.03518, 121.52436 25.035...</td>\n",
       "    </tr>\n",
       "  </tbody>\n",
       "</table>\n",
       "</div>"
      ],
      "text/plain": [
       "                p_cnt                                           geometry\n",
       "0  1.1333333333333333  POLYGON ((121.52403 25.03519, 121.52401 25.035...\n",
       "1  1.1333333333333333  POLYGON ((121.52431 25.03532, 121.5243 25.0352...\n",
       "2  1.1333333333333333  POLYGON ((121.52449 25.03531, 121.52447 25.035...\n",
       "3  1.1333333333333333  POLYGON ((121.5242 25.03518, 121.52419 25.0350...\n",
       "4  1.1333333333333333  POLYGON ((121.52438 25.03518, 121.52436 25.035..."
      ]
     },
     "execution_count": 8,
     "metadata": {},
     "output_type": "execute_result"
    }
   ],
   "source": [
    "from h3_toolkit import H3Toolkit\n",
    "from h3_toolkit.hbase import HBaseClient\n",
    "\n",
    "toolkit = H3Toolkit()\n",
    "\n",
    "result = (\n",
    "    toolkit\n",
    "    .process_from_vector(\n",
    "        data = new_gdf,\n",
    "        resolution = 12,\n",
    "        geometry_col = 'geometry'\n",
    "    )\n",
    "    .set_hbase_client(\n",
    "        HBaseClient(\n",
    "            fetch_url=FETCH_API,\n",
    "            send_url=SEND_API,\n",
    "            token = TOKEN,\n",
    "            max_concurrent_requests=5, # don't change this\n",
    "            chunk_size=200000,         # don't change this\n",
    "        )\n",
    "    )\n",
    "    .fetch_from_hbase(\n",
    "        table_name = 'res12_pre_data',\n",
    "        column_family = 'demographic',\n",
    "        column_qualifier = ['p_cnt'],\n",
    "    )\n",
    "    .get_result(return_geometry=True)\n",
    ")\n",
    "\n",
    "result.head()"
   ]
  },
  {
   "cell_type": "markdown",
   "metadata": {},
   "source": [
    "## 4. fetch data from hbase and aggregate new data back to hbase\n"
   ]
  },
  {
   "cell_type": "code",
   "execution_count": 11,
   "metadata": {},
   "outputs": [
    {
     "ename": "ValueError",
     "evalue": "Please provide the h3 index first                                 before fetching data from HBase.",
     "output_type": "error",
     "traceback": [
      "\u001b[0;31m---------------------------------------------------------------------------\u001b[0m",
      "\u001b[0;31mValueError\u001b[0m                                Traceback (most recent call last)",
      "Cell \u001b[0;32mIn[11], line 21\u001b[0m\n\u001b[1;32m      3\u001b[0m \u001b[38;5;28;01mfrom\u001b[39;00m \u001b[38;5;21;01mh3_toolkit\u001b[39;00m\u001b[38;5;21;01m.\u001b[39;00m\u001b[38;5;21;01mhbase\u001b[39;00m \u001b[38;5;28;01mimport\u001b[39;00m HBaseClient\n\u001b[1;32m      5\u001b[0m toolkit \u001b[38;5;241m=\u001b[39m H3Toolkit()\n\u001b[1;32m      7\u001b[0m result \u001b[38;5;241m=\u001b[39m (\n\u001b[1;32m      8\u001b[0m     \u001b[43mtoolkit\u001b[49m\n\u001b[1;32m      9\u001b[0m \u001b[43m    \u001b[49m\u001b[38;5;66;43;03m# .process_from_vector(\u001b[39;49;00m\n\u001b[1;32m     10\u001b[0m \u001b[43m    \u001b[49m\u001b[38;5;66;43;03m#     data = new_gdf,\u001b[39;49;00m\n\u001b[1;32m     11\u001b[0m \u001b[43m    \u001b[49m\u001b[38;5;66;43;03m#     resolution = 12,\u001b[39;49;00m\n\u001b[1;32m     12\u001b[0m \u001b[43m    \u001b[49m\u001b[38;5;66;43;03m#     geometry_col = 'geometry'\u001b[39;49;00m\n\u001b[1;32m     13\u001b[0m \u001b[43m    \u001b[49m\u001b[38;5;66;43;03m# )\u001b[39;49;00m\n\u001b[1;32m     14\u001b[0m \u001b[43m    \u001b[49m\u001b[38;5;241;43m.\u001b[39;49m\u001b[43mset_hbase_client\u001b[49m\u001b[43m(\u001b[49m\n\u001b[1;32m     15\u001b[0m \u001b[43m        \u001b[49m\u001b[43mHBaseClient\u001b[49m\u001b[43m(\u001b[49m\n\u001b[1;32m     16\u001b[0m \u001b[43m            \u001b[49m\u001b[43mfetch_url\u001b[49m\u001b[38;5;241;43m=\u001b[39;49m\u001b[43mFETCH_API\u001b[49m\u001b[43m,\u001b[49m\n\u001b[1;32m     17\u001b[0m \u001b[43m            \u001b[49m\u001b[43msend_url\u001b[49m\u001b[38;5;241;43m=\u001b[39;49m\u001b[43mSEND_API\u001b[49m\u001b[43m,\u001b[49m\n\u001b[1;32m     18\u001b[0m \u001b[43m            \u001b[49m\u001b[43mtoken\u001b[49m\u001b[43m \u001b[49m\u001b[38;5;241;43m=\u001b[39;49m\u001b[43m \u001b[49m\u001b[43mTOKEN\u001b[49m\u001b[43m,\u001b[49m\n\u001b[1;32m     19\u001b[0m \u001b[43m        \u001b[49m\u001b[43m)\u001b[49m\n\u001b[1;32m     20\u001b[0m \u001b[43m    \u001b[49m\u001b[43m)\u001b[49m\n\u001b[0;32m---> 21\u001b[0m \u001b[43m    \u001b[49m\u001b[38;5;241;43m.\u001b[39;49m\u001b[43mfetch_from_hbase\u001b[49m\u001b[43m(\u001b[49m\n\u001b[1;32m     22\u001b[0m \u001b[43m        \u001b[49m\u001b[43mtable_name\u001b[49m\u001b[43m \u001b[49m\u001b[38;5;241;43m=\u001b[39;49m\u001b[43m \u001b[49m\u001b[38;5;124;43m'\u001b[39;49m\u001b[38;5;124;43mres12_pre_data\u001b[39;49m\u001b[38;5;124;43m'\u001b[39;49m\u001b[43m,\u001b[49m\n\u001b[1;32m     23\u001b[0m \u001b[43m        \u001b[49m\u001b[43mcolumn_family\u001b[49m\u001b[43m \u001b[49m\u001b[38;5;241;43m=\u001b[39;49m\u001b[43m \u001b[49m\u001b[38;5;124;43m'\u001b[39;49m\u001b[38;5;124;43mdemographic\u001b[39;49m\u001b[38;5;124;43m'\u001b[39;49m\u001b[43m,\u001b[49m\n\u001b[1;32m     24\u001b[0m \u001b[43m        \u001b[49m\u001b[43mcolumn_qualifier\u001b[49m\u001b[43m \u001b[49m\u001b[38;5;241;43m=\u001b[39;49m\u001b[43m \u001b[49m\u001b[43m[\u001b[49m\u001b[38;5;124;43m'\u001b[39;49m\u001b[38;5;124;43mp_cnt\u001b[39;49m\u001b[38;5;124;43m'\u001b[39;49m\u001b[43m,\u001b[49m\u001b[43m \u001b[49m\u001b[38;5;124;43m'\u001b[39;49m\u001b[38;5;124;43mf_cnt\u001b[39;49m\u001b[38;5;124;43m'\u001b[39;49m\u001b[43m,\u001b[49m\u001b[43m \u001b[49m\u001b[38;5;124;43m'\u001b[39;49m\u001b[38;5;124;43mm_cnt\u001b[39;49m\u001b[38;5;124;43m'\u001b[39;49m\u001b[43m]\u001b[49m\u001b[43m,\u001b[49m\n\u001b[1;32m     25\u001b[0m \u001b[43m    \u001b[49m\u001b[43m)\u001b[49m\n\u001b[1;32m     26\u001b[0m     \u001b[38;5;241m.\u001b[39mset_aggregation_strategy(\n\u001b[1;32m     27\u001b[0m         {\n\u001b[1;32m     28\u001b[0m             (\u001b[38;5;124m'\u001b[39m\u001b[38;5;124mf_cnt\u001b[39m\u001b[38;5;124m'\u001b[39m, \u001b[38;5;124m'\u001b[39m\u001b[38;5;124mp_cnt\u001b[39m\u001b[38;5;124m'\u001b[39m): SumUp(),\n\u001b[1;32m     29\u001b[0m             \u001b[38;5;124m'\u001b[39m\u001b[38;5;124mm_cnt\u001b[39m\u001b[38;5;124m'\u001b[39m: Mean(),\n\u001b[1;32m     30\u001b[0m         }\n\u001b[1;32m     31\u001b[0m     )\n\u001b[1;32m     32\u001b[0m     \u001b[38;5;241m.\u001b[39mprocess_from_h3(\n\u001b[1;32m     33\u001b[0m         target_resolution\u001b[38;5;241m=\u001b[39m \u001b[38;5;241m10\u001b[39m,\n\u001b[1;32m     34\u001b[0m     )\n\u001b[1;32m     35\u001b[0m     \u001b[38;5;66;03m# .send_to_hbase(\u001b[39;00m\n\u001b[1;32m     36\u001b[0m     \u001b[38;5;66;03m#     table_name = 'res10_test_data',\u001b[39;00m\n\u001b[1;32m     37\u001b[0m     \u001b[38;5;66;03m#     column_family = 'demographic',\u001b[39;00m\n\u001b[1;32m     38\u001b[0m     \u001b[38;5;66;03m#     column_qualifier = ['p_cnt'],\u001b[39;00m\n\u001b[1;32m     39\u001b[0m     \u001b[38;5;66;03m# )\u001b[39;00m\n\u001b[1;32m     40\u001b[0m     \u001b[38;5;241m.\u001b[39mget_result()\n\u001b[1;32m     41\u001b[0m )\n\u001b[1;32m     43\u001b[0m result\u001b[38;5;241m.\u001b[39mhead()\n",
      "File \u001b[0;32m~/Documents/Project/h3-aggregation/h3_toolkit/core.py:427\u001b[0m, in \u001b[0;36mH3Toolkit.fetch_from_hbase\u001b[0;34m(self, table_name, column_family, column_qualifier, rowkeys)\u001b[0m\n\u001b[1;32m    425\u001b[0m         \u001b[38;5;28mself\u001b[39m\u001b[38;5;241m.\u001b[39mresult \u001b[38;5;241m=\u001b[39m pl\u001b[38;5;241m.\u001b[39mDataFrame({\u001b[38;5;124m'\u001b[39m\u001b[38;5;124mhex_id\u001b[39m\u001b[38;5;124m'\u001b[39m: rowkeys})\n\u001b[1;32m    426\u001b[0m     \u001b[38;5;28;01melse\u001b[39;00m:\n\u001b[0;32m--> 427\u001b[0m         \u001b[38;5;28;01mraise\u001b[39;00m \u001b[38;5;167;01mValueError\u001b[39;00m(\u001b[38;5;124m\"\u001b[39m\u001b[38;5;124mPlease provide the h3 index first \u001b[39m\u001b[38;5;130;01m\\\u001b[39;00m\n\u001b[1;32m    428\u001b[0m \u001b[38;5;124m                        before fetching data from HBase.\u001b[39m\u001b[38;5;124m\"\u001b[39m)\n\u001b[1;32m    430\u001b[0m \u001b[38;5;28;01mif\u001b[39;00m \u001b[38;5;28mself\u001b[39m\u001b[38;5;241m.\u001b[39mclient:\n\u001b[1;32m    431\u001b[0m     \u001b[38;5;28mself\u001b[39m\u001b[38;5;241m.\u001b[39mresult \u001b[38;5;241m=\u001b[39m \u001b[38;5;28mself\u001b[39m\u001b[38;5;241m.\u001b[39mclient\u001b[38;5;241m.\u001b[39mfetch_data(\n\u001b[1;32m    432\u001b[0m         table_name\u001b[38;5;241m=\u001b[39mtable_name,\n\u001b[1;32m    433\u001b[0m         column_family\u001b[38;5;241m=\u001b[39mcolumn_family,\n\u001b[1;32m    434\u001b[0m         column_qualifier\u001b[38;5;241m=\u001b[39mcolumn_qualifier,\n\u001b[1;32m    435\u001b[0m         rowkeys\u001b[38;5;241m=\u001b[39m\u001b[38;5;28mself\u001b[39m\u001b[38;5;241m.\u001b[39mresult[\u001b[38;5;124m'\u001b[39m\u001b[38;5;124mhex_id\u001b[39m\u001b[38;5;124m'\u001b[39m]\u001b[38;5;241m.\u001b[39mto_list(),\n\u001b[1;32m    436\u001b[0m     )\n",
      "\u001b[0;31mValueError\u001b[0m: Please provide the h3 index first                                 before fetching data from HBase."
     ]
    }
   ],
   "source": [
    "from h3_toolkit import H3Toolkit\n",
    "from h3_toolkit.aggregation import SumUp, Mean\n",
    "from h3_toolkit.hbase import HBaseClient\n",
    "\n",
    "toolkit = H3Toolkit()\n",
    "\n",
    "result = (\n",
    "    toolkit\n",
    "    .process_from_vector(\n",
    "        data = new_gdf,\n",
    "        resolution = 12,\n",
    "        geometry_col = 'geometry'\n",
    "    )\n",
    "    .set_hbase_client(\n",
    "        HBaseClient(\n",
    "            fetch_url=FETCH_API,\n",
    "            send_url=SEND_API,\n",
    "            token = TOKEN,\n",
    "        )\n",
    "    )\n",
    "    .fetch_from_hbase(\n",
    "        table_name = 'res12_pre_data',\n",
    "        column_family = 'demographic',\n",
    "        column_qualifier = ['p_cnt', 'f_cnt', 'm_cnt'],\n",
    "    )\n",
    "    .set_aggregation_strategy(\n",
    "        {\n",
    "            ('f_cnt', 'p_cnt'): SumUp(),\n",
    "            'm_cnt': Mean(),\n",
    "        }\n",
    "    )\n",
    "    .process_from_h3(\n",
    "        target_resolution= 10,\n",
    "    )\n",
    "    # .send_to_hbase(\n",
    "    #     table_name = 'res10_test_data',\n",
    "    #     column_family = 'demographic',\n",
    "    #     column_qualifier = ['p_cnt'],\n",
    "    # )\n",
    "    .get_result()\n",
    ")\n",
    "\n",
    "result.head()"
   ]
  },
  {
   "cell_type": "code",
   "execution_count": null,
   "metadata": {},
   "outputs": [],
   "source": []
  }
 ],
 "metadata": {
  "kernelspec": {
   "display_name": ".venv",
   "language": "python",
   "name": "python3"
  },
  "language_info": {
   "codemirror_mode": {
    "name": "ipython",
    "version": 3
   },
   "file_extension": ".py",
   "mimetype": "text/x-python",
   "name": "python",
   "nbconvert_exporter": "python",
   "pygments_lexer": "ipython3",
   "version": "3.12.2"
  }
 },
 "nbformat": 4,
 "nbformat_minor": 2
}
