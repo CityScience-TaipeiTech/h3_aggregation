{
 "cells": [
  {
   "cell_type": "markdown",
   "metadata": {},
   "source": [
    "# vector data"
   ]
  },
  {
   "cell_type": "markdown",
   "metadata": {},
   "source": [
    "## 1. Import geometry data"
   ]
  },
  {
   "cell_type": "code",
   "execution_count": 1,
   "metadata": {},
   "outputs": [],
   "source": [
    "# !pip install h3-toolkit, geopandas, polars, psycopg2-binary, sqlalchemy, geoalchemy2, connectorx"
   ]
  },
  {
   "cell_type": "code",
   "execution_count": 2,
   "metadata": {},
   "outputs": [],
   "source": [
    "import os\n",
    "\n",
    "import geopandas as gpd\n",
    "import polars as pl\n",
    "from dotenv import load_dotenv\n",
    "from sqlalchemy import create_engine\n",
    "\n",
    "load_dotenv()\n",
    "URI = os.getenv(\"POSTGRES\")"
   ]
  },
  {
   "cell_type": "markdown",
   "metadata": {},
   "source": [
    "\n",
    "### 1.1. Use `geopandas` to fetch vector data from Postgis (slowly)  \n",
    "*CSL researcher only*"
   ]
  },
  {
   "cell_type": "code",
   "execution_count": 3,
   "metadata": {},
   "outputs": [
    {
     "name": "stderr",
     "output_type": "stream",
     "text": [
      "/Users/syuanbo/Documents/Project/h3-aggregation/.venv/lib/python3.12/site-packages/geopandas/io/sql.py:185: UserWarning: pandas only supports SQLAlchemy connectable (engine/connection) or database string URI or sqlite3 DBAPI2 connection. Other DBAPI2 objects are not tested. Please consider using SQLAlchemy.\n",
      "  df = pd.read_sql(\n",
      "/Users/syuanbo/Documents/Project/h3-aggregation/.venv/lib/python3.12/site-packages/geopandas/io/sql.py:473: UserWarning: pandas only supports SQLAlchemy connectable (engine/connection) or database string URI or sqlite3 DBAPI2 connection. Other DBAPI2 objects are not tested. Please consider using SQLAlchemy.\n",
      "  return pd.read_sql(spatial_ref_sys_sql, con)\n"
     ]
    }
   ],
   "source": [
    "sql = \"\"\"\n",
    "with boundary as (\n",
    "    select 代碼, geometry\n",
    "    from geometry.boundary_smallest\n",
    "    where 縣市代碼 = %(city_code)s\n",
    ")\n",
    "select aps.*, boundary.geometry as geometry\n",
    "from geometry.af_ppl_stats as aps\n",
    "join boundary\n",
    "on aps.codebase = boundary.代碼\n",
    "\"\"\"\n",
    "\n",
    "engine = create_engine(URI)\n",
    "with engine.connect() as conn:\n",
    "    gdf = gpd.read_postgis(\n",
    "        sql,\n",
    "        con=conn.connection,\n",
    "        geom_col='geometry',\n",
    "        params={'city_code': '63000'} # 台北市\n",
    "    )"
   ]
  },
  {
   "cell_type": "code",
   "execution_count": 4,
   "metadata": {},
   "outputs": [
    {
     "data": {
      "text/html": [
       "<div>\n",
       "<style scoped>\n",
       "    .dataframe tbody tr th:only-of-type {\n",
       "        vertical-align: middle;\n",
       "    }\n",
       "\n",
       "    .dataframe tbody tr th {\n",
       "        vertical-align: top;\n",
       "    }\n",
       "\n",
       "    .dataframe thead th {\n",
       "        text-align: right;\n",
       "    }\n",
       "</style>\n",
       "<table border=\"1\" class=\"dataframe\">\n",
       "  <thead>\n",
       "    <tr style=\"text-align: right;\">\n",
       "      <th></th>\n",
       "      <th>codebase</th>\n",
       "      <th>city</th>\n",
       "      <th>h_cnt</th>\n",
       "      <th>p_cnt</th>\n",
       "      <th>m_cnt</th>\n",
       "      <th>f_cnt</th>\n",
       "      <th>info_time</th>\n",
       "      <th>geometry</th>\n",
       "    </tr>\n",
       "  </thead>\n",
       "  <tbody>\n",
       "    <tr>\n",
       "      <th>0</th>\n",
       "      <td>A6301-0053-00</td>\n",
       "      <td>臺北市</td>\n",
       "      <td>93</td>\n",
       "      <td>221</td>\n",
       "      <td>95</td>\n",
       "      <td>126</td>\n",
       "      <td>2023-12-01 00:00:00+00:00</td>\n",
       "      <td>MULTIPOLYGON (((121.54629 25.06331, 121.54723 ...</td>\n",
       "    </tr>\n",
       "    <tr>\n",
       "      <th>1</th>\n",
       "      <td>A6301-0003-00</td>\n",
       "      <td>臺北市</td>\n",
       "      <td>13</td>\n",
       "      <td>22</td>\n",
       "      <td>9</td>\n",
       "      <td>13</td>\n",
       "      <td>2023-12-01 00:00:00+00:00</td>\n",
       "      <td>MULTIPOLYGON (((121.55699 25.07261, 121.55697 ...</td>\n",
       "    </tr>\n",
       "    <tr>\n",
       "      <th>2</th>\n",
       "      <td>A6301-0004-00</td>\n",
       "      <td>臺北市</td>\n",
       "      <td>0</td>\n",
       "      <td>0</td>\n",
       "      <td>0</td>\n",
       "      <td>0</td>\n",
       "      <td>2023-12-01 00:00:00+00:00</td>\n",
       "      <td>MULTIPOLYGON (((121.55222 25.07344, 121.55541 ...</td>\n",
       "    </tr>\n",
       "    <tr>\n",
       "      <th>3</th>\n",
       "      <td>A6301-0005-00</td>\n",
       "      <td>臺北市</td>\n",
       "      <td>1</td>\n",
       "      <td>2</td>\n",
       "      <td>1</td>\n",
       "      <td>1</td>\n",
       "      <td>2023-12-01 00:00:00+00:00</td>\n",
       "      <td>MULTIPOLYGON (((121.55106 25.07226, 121.55152 ...</td>\n",
       "    </tr>\n",
       "    <tr>\n",
       "      <th>4</th>\n",
       "      <td>A6301-0006-00</td>\n",
       "      <td>臺北市</td>\n",
       "      <td>10</td>\n",
       "      <td>21</td>\n",
       "      <td>12</td>\n",
       "      <td>9</td>\n",
       "      <td>2023-12-01 00:00:00+00:00</td>\n",
       "      <td>MULTIPOLYGON (((121.5549 25.07218, 121.55671 2...</td>\n",
       "    </tr>\n",
       "  </tbody>\n",
       "</table>\n",
       "</div>"
      ],
      "text/plain": [
       "        codebase city  h_cnt  p_cnt  m_cnt  f_cnt                 info_time  \\\n",
       "0  A6301-0053-00  臺北市     93    221     95    126 2023-12-01 00:00:00+00:00   \n",
       "1  A6301-0003-00  臺北市     13     22      9     13 2023-12-01 00:00:00+00:00   \n",
       "2  A6301-0004-00  臺北市      0      0      0      0 2023-12-01 00:00:00+00:00   \n",
       "3  A6301-0005-00  臺北市      1      2      1      1 2023-12-01 00:00:00+00:00   \n",
       "4  A6301-0006-00  臺北市     10     21     12      9 2023-12-01 00:00:00+00:00   \n",
       "\n",
       "                                            geometry  \n",
       "0  MULTIPOLYGON (((121.54629 25.06331, 121.54723 ...  \n",
       "1  MULTIPOLYGON (((121.55699 25.07261, 121.55697 ...  \n",
       "2  MULTIPOLYGON (((121.55222 25.07344, 121.55541 ...  \n",
       "3  MULTIPOLYGON (((121.55106 25.07226, 121.55152 ...  \n",
       "4  MULTIPOLYGON (((121.5549 25.07218, 121.55671 2...  "
      ]
     },
     "execution_count": 4,
     "metadata": {},
     "output_type": "execute_result"
    }
   ],
   "source": [
    "gdf.head()"
   ]
  },
  {
   "cell_type": "markdown",
   "metadata": {},
   "source": [
    "### 1.2. Use `polars+connectorx` to fetch vector data from Postgis (faster, recommended)\n",
    "*CSL researcher only*"
   ]
  },
  {
   "cell_type": "code",
   "execution_count": 5,
   "metadata": {},
   "outputs": [
    {
     "data": {
      "text/html": [
       "<div><style>\n",
       ".dataframe > thead > tr,\n",
       ".dataframe > tbody > tr {\n",
       "  text-align: right;\n",
       "  white-space: pre-wrap;\n",
       "}\n",
       "</style>\n",
       "<small>shape: (5, 8)</small><table border=\"1\" class=\"dataframe\"><thead><tr><th>codebase</th><th>city</th><th>h_cnt</th><th>p_cnt</th><th>m_cnt</th><th>f_cnt</th><th>info_time</th><th>geometry_wkb</th></tr><tr><td>str</td><td>str</td><td>i64</td><td>i64</td><td>i64</td><td>i64</td><td>datetime[ns, UTC]</td><td>binary</td></tr></thead><tbody><tr><td>&quot;A6301-0003-00&quot;</td><td>&quot;臺北市&quot;</td><td>13</td><td>22</td><td>9</td><td>13</td><td>2023-12-01 00:00:00 UTC</td><td>b&quot;\\x01\\x06\\x00\\x00\\x00\\x01\\x00\\x00\\x00\\x01\\x03\\x00\\x00\\x00\\x01\\x00\\x00\\x00\\x08\\x00\\x00\\x00y~\\xef\\xbf\\xa5c^@\\xd7\\x17;\\xa1\\x96\\x129@\\xd8\\x9c\\x1cV\\xa5c^@\\x97a\\x12&quot;\\x87\\x129@D\\xe2\\xbd\\xd4Pc&quot;...</td></tr><tr><td>&quot;A6301-0004-00&quot;</td><td>&quot;臺北市&quot;</td><td>0</td><td>0</td><td>0</td><td>0</td><td>2023-12-01 00:00:00 UTC</td><td>b&quot;\\x01\\x06\\x00\\x00\\x00\\x01\\x00\\x00\\x00\\x01\\x03\\x00\\x00\\x00\\x01\\x00\\x00\\x00=\\x00\\x00\\x00\\xa7t\\xbd\\x95Wc^@\\xadt\\xbd\\xf5\\xcc\\x129@\\x82\\x89Y\\xe3\\x8bc^@\\x03\\x7f\\x00P\\xcc\\x129@\\xd6f\\xc8?\\x9ec&quot;...</td></tr><tr><td>&quot;A6301-0005-00&quot;</td><td>&quot;臺北市&quot;</td><td>1</td><td>2</td><td>1</td><td>1</td><td>2023-12-01 00:00:00 UTC</td><td>b&quot;\\x01\\x06\\x00\\x00\\x00\\x01\\x00\\x00\\x00\\x01\\x03\\x00\\x00\\x00\\x01\\x00\\x00\\x00\\x1a\\x00\\x00\\x00\\x84\\x1f\\x87\\x86Dc^@\\xaf\\x10Oi\\x7f\\x129@X\\xfa\\xbf,Lc^@\\xd8)\\x10|x\\x129@&amp;\\x00\\x98\\xb7nc&quot;...</td></tr><tr><td>&quot;A6301-0006-00&quot;</td><td>&quot;臺北市&quot;</td><td>10</td><td>21</td><td>12</td><td>9</td><td>2023-12-01 00:00:00 UTC</td><td>b&quot;\\x01\\x06\\x00\\x00\\x00\\x01\\x00\\x00\\x00\\x01\\x03\\x00\\x00\\x00\\x01\\x00\\x00\\x00\\x18\\x00\\x00\\x00[\\xa8\\x87\\x8d\\x83c^@\\xf4k`Bz\\x129@\\xc0\\xb4\\xcc\\x13\\xa1c^@p\\x0f\\x9b&gt;v\\x129@)&gt;n\\xc5\\xabc&quot;...</td></tr><tr><td>&quot;A6301-0007-00&quot;</td><td>&quot;臺北市&quot;</td><td>11</td><td>23</td><td>13</td><td>10</td><td>2023-12-01 00:00:00 UTC</td><td>b&quot;\\x01\\x06\\x00\\x00\\x00\\x01\\x00\\x00\\x00\\x01\\x03\\x00\\x00\\x00\\x01\\x00\\x00\\x00\\x1c\\x00\\x00\\x00i\\x02?\\xd49d^@}\\x1b\\xe8H\\x0a\\x129@\\x98\\x13ssDd^@\\x88\\x11\\x1e\\xeb\\x1b\\x129@W,\\xb4\\x08id&quot;...</td></tr></tbody></table></div>"
      ],
      "text/plain": [
       "shape: (5, 8)\n",
       "┌───────────────┬────────┬───────┬───────┬───────┬───────┬────────────────────┬────────────────────┐\n",
       "│ codebase      ┆ city   ┆ h_cnt ┆ p_cnt ┆ m_cnt ┆ f_cnt ┆ info_time          ┆ geometry_wkb       │\n",
       "│ ---           ┆ ---    ┆ ---   ┆ ---   ┆ ---   ┆ ---   ┆ ---                ┆ ---                │\n",
       "│ str           ┆ str    ┆ i64   ┆ i64   ┆ i64   ┆ i64   ┆ datetime[ns, UTC]  ┆ binary             │\n",
       "╞═══════════════╪════════╪═══════╪═══════╪═══════╪═══════╪════════════════════╪════════════════════╡\n",
       "│ A6301-0003-00 ┆ 臺北市 ┆ 13    ┆ 22    ┆ 9     ┆ 13    ┆ 2023-12-01         ┆ b\"\\x01\\x06\\x00\\x00 │\n",
       "│               ┆        ┆       ┆       ┆       ┆       ┆ 00:00:00 UTC       ┆ \\x00\\x01\\x00…      │\n",
       "│ A6301-0004-00 ┆ 臺北市 ┆ 0     ┆ 0     ┆ 0     ┆ 0     ┆ 2023-12-01         ┆ b\"\\x01\\x06\\x00\\x00 │\n",
       "│               ┆        ┆       ┆       ┆       ┆       ┆ 00:00:00 UTC       ┆ \\x00\\x01\\x00…      │\n",
       "│ A6301-0005-00 ┆ 臺北市 ┆ 1     ┆ 2     ┆ 1     ┆ 1     ┆ 2023-12-01         ┆ b\"\\x01\\x06\\x00\\x00 │\n",
       "│               ┆        ┆       ┆       ┆       ┆       ┆ 00:00:00 UTC       ┆ \\x00\\x01\\x00…      │\n",
       "│ A6301-0006-00 ┆ 臺北市 ┆ 10    ┆ 21    ┆ 12    ┆ 9     ┆ 2023-12-01         ┆ b\"\\x01\\x06\\x00\\x00 │\n",
       "│               ┆        ┆       ┆       ┆       ┆       ┆ 00:00:00 UTC       ┆ \\x00\\x01\\x00…      │\n",
       "│ A6301-0007-00 ┆ 臺北市 ┆ 11    ┆ 23    ┆ 13    ┆ 10    ┆ 2023-12-01         ┆ b\"\\x01\\x06\\x00\\x00 │\n",
       "│               ┆        ┆       ┆       ┆       ┆       ┆ 00:00:00 UTC       ┆ \\x00\\x01\\x00…      │\n",
       "└───────────────┴────────┴───────┴───────┴───────┴───────┴────────────────────┴────────────────────┘"
      ]
     },
     "execution_count": 5,
     "metadata": {},
     "output_type": "execute_result"
    }
   ],
   "source": [
    "city_code = 63000\n",
    "\n",
    "sql = f\"\"\"\n",
    "with boundary as (\n",
    "    select 代碼, geometry\n",
    "    from geometry.boundary_smallest\n",
    "    where 縣市代碼 = {city_code}\n",
    ")\n",
    "select aps.*, ST_AsBinary(boundary.geometry) as geometry_wkb\n",
    "from geometry.af_ppl_stats as aps\n",
    "join boundary\n",
    "on aps.codebase = boundary.代碼\n",
    "\"\"\"\n",
    "\n",
    "pdf = pl.read_database_uri(sql, URI, engine=\"connectorx\")\n",
    "pdf.head()\n"
   ]
  },
  {
   "cell_type": "markdown",
   "metadata": {},
   "source": [
    "### 1.3. Use `geopandas` to read geometry file"
   ]
  },
  {
   "cell_type": "code",
   "execution_count": 6,
   "metadata": {},
   "outputs": [
    {
     "data": {
      "text/plain": [
       "<Axes: >"
      ]
     },
     "execution_count": 6,
     "metadata": {},
     "output_type": "execute_result"
    },
    {
     "data": {
      "image/png": "[encoded data removed]",
      "text/plain": [
       "<Figure size 640x480 with 1 Axes>"
      ]
     },
     "metadata": {},
     "output_type": "display_data"
    }
   ],
   "source": [
    "data = gpd.read_file('data/test_geom.geojson')\n",
    "data.plot(column='p_cnt',\n",
    "               cmap='OrRd',         # 使用顏色映射\n",
    "               scheme='naturalbreaks',  # 自然斷點分類\n",
    "               k=5,\n",
    "               legend=False\n",
    ")"
   ]
  },
  {
   "cell_type": "markdown",
   "metadata": {},
   "source": [
    "## 2. Geometry to h3"
   ]
  },
  {
   "cell_type": "markdown",
   "metadata": {},
   "source": [
    "The `H3Toolkit` is a chainable class that can convert geometry data to h3 index.\n",
    "\n",
    "- **Step1**: use `set_aggregation_strategy()` to set the target column and the aggregation method in the dict `{ column_name : aggregation_function() }`.\n",
    "- **Step2**: use `process_from_vector()` to set the data and the h3 resolution, this function will convert the geometry to h3 index in the designated resolution and process the column(s) with the aggregation method you set.\n",
    "- **Step3**: use `get_result()` to get the result. default is a polars dataframe with the h3 index and the aggregated column(s), if you want the actual geometry, you can set `return_geometry=True` to get the geometry column, and the return type will be the geopandas dataframe.\n"
   ]
  },
  {
   "cell_type": "markdown",
   "metadata": {},
   "source": [
    "NOTE: this function always use the centroid of the h3 hexagon to extract the data from actual geometry object, so the result may loss some information if you choose the inproper resolution. If missing data exists, the warnging will be raised. you should choose the proper resolution to avoid this situation, ie from resolution 7 to 10. if you want the lower resolution, you can chain the result from `process_from_vector()` to `process_from_h3()` to get the lower resolution h3 index without lossing any information."
   ]
  },
  {
   "cell_type": "markdown",
   "metadata": {},
   "source": [
    "must to use `get_result()` to get the result, otherwise return will be the H3Toolkit object."
   ]
  },
  {
   "cell_type": "code",
   "execution_count": 7,
   "metadata": {},
   "outputs": [
    {
     "data": {
      "text/html": [
       "<div><style>\n",
       ".dataframe > thead > tr,\n",
       ".dataframe > tbody > tr {\n",
       "  text-align: right;\n",
       "  white-space: pre-wrap;\n",
       "}\n",
       "</style>\n",
       "<small>shape: (5, 2)</small><table border=\"1\" class=\"dataframe\"><thead><tr><th>hex_id</th><th>p_cnt</th></tr><tr><td>str</td><td>f64</td></tr></thead><tbody><tr><td>&quot;8c4ba0a412a01ff&quot;</td><td>14.208333</td></tr><tr><td>&quot;8c4ba0a412a05ff&quot;</td><td>14.208333</td></tr><tr><td>&quot;8c4ba0a412a07ff&quot;</td><td>14.208333</td></tr><tr><td>&quot;8c4ba0a412a09ff&quot;</td><td>14.208333</td></tr><tr><td>&quot;8c4ba0a412a0bff&quot;</td><td>14.208333</td></tr></tbody></table></div>"
      ],
      "text/plain": [
       "shape: (5, 2)\n",
       "┌─────────────────┬───────────┐\n",
       "│ hex_id          ┆ p_cnt     │\n",
       "│ ---             ┆ ---       │\n",
       "│ str             ┆ f64       │\n",
       "╞═════════════════╪═══════════╡\n",
       "│ 8c4ba0a412a01ff ┆ 14.208333 │\n",
       "│ 8c4ba0a412a05ff ┆ 14.208333 │\n",
       "│ 8c4ba0a412a07ff ┆ 14.208333 │\n",
       "│ 8c4ba0a412a09ff ┆ 14.208333 │\n",
       "│ 8c4ba0a412a0bff ┆ 14.208333 │\n",
       "└─────────────────┴───────────┘"
      ]
     },
     "execution_count": 7,
     "metadata": {},
     "output_type": "execute_result"
    }
   ],
   "source": [
    "from h3_toolkit import H3Toolkit\n",
    "from h3_toolkit.aggregation import SplitEqually\n",
    "\n",
    "toolkit = H3Toolkit()\n",
    "\n",
    "result = (\n",
    "    toolkit\n",
    "    .set_aggregation_strategy(\n",
    "        {\n",
    "            'p_cnt' : SplitEqually(agg_col='codebase'),\n",
    "        }\n",
    "    )\n",
    "    .process_from_vector(data, resolution=12, geometry_col='geometry')\n",
    ")\n",
    "\n",
    "output_df = result.get_result()\n",
    "\n",
    "output_df.head()"
   ]
  },
  {
   "cell_type": "markdown",
   "metadata": {},
   "source": [
    "set `return_geometry=True` to get the geometry column in the result."
   ]
  },
  {
   "cell_type": "code",
   "execution_count": 11,
   "metadata": {},
   "outputs": [
    {
     "data": {
      "text/html": [
       "<div>\n",
       "<style scoped>\n",
       "    .dataframe tbody tr th:only-of-type {\n",
       "        vertical-align: middle;\n",
       "    }\n",
       "\n",
       "    .dataframe tbody tr th {\n",
       "        vertical-align: top;\n",
       "    }\n",
       "\n",
       "    .dataframe thead th {\n",
       "        text-align: right;\n",
       "    }\n",
       "</style>\n",
       "<table border=\"1\" class=\"dataframe\">\n",
       "  <thead>\n",
       "    <tr style=\"text-align: right;\">\n",
       "      <th></th>\n",
       "      <th>p_cnt</th>\n",
       "      <th>geometry</th>\n",
       "    </tr>\n",
       "  </thead>\n",
       "  <tbody>\n",
       "    <tr>\n",
       "      <th>0</th>\n",
       "      <td>14.208333</td>\n",
       "      <td>POLYGON ((121.54706 25.04487, 121.54705 25.044...</td>\n",
       "    </tr>\n",
       "    <tr>\n",
       "      <th>1</th>\n",
       "      <td>14.208333</td>\n",
       "      <td>POLYGON ((121.54695 25.04474, 121.54694 25.044...</td>\n",
       "    </tr>\n",
       "    <tr>\n",
       "      <th>2</th>\n",
       "      <td>14.208333</td>\n",
       "      <td>POLYGON ((121.54713 25.04473, 121.54711 25.044...</td>\n",
       "    </tr>\n",
       "    <tr>\n",
       "      <th>3</th>\n",
       "      <td>14.208333</td>\n",
       "      <td>POLYGON ((121.547 25.04501, 121.54698 25.04492...</td>\n",
       "    </tr>\n",
       "    <tr>\n",
       "      <th>4</th>\n",
       "      <td>14.208333</td>\n",
       "      <td>POLYGON ((121.54717 25.045, 121.54716 25.04491...</td>\n",
       "    </tr>\n",
       "  </tbody>\n",
       "</table>\n",
       "</div>"
      ],
      "text/plain": [
       "       p_cnt                                           geometry\n",
       "0  14.208333  POLYGON ((121.54706 25.04487, 121.54705 25.044...\n",
       "1  14.208333  POLYGON ((121.54695 25.04474, 121.54694 25.044...\n",
       "2  14.208333  POLYGON ((121.54713 25.04473, 121.54711 25.044...\n",
       "3  14.208333  POLYGON ((121.547 25.04501, 121.54698 25.04492...\n",
       "4  14.208333  POLYGON ((121.54717 25.045, 121.54716 25.04491..."
      ]
     },
     "execution_count": 11,
     "metadata": {},
     "output_type": "execute_result"
    }
   ],
   "source": [
    "output_gdf = result.get_result(return_geometry=True)\n",
    "output_gdf.head()"
   ]
  },
  {
   "cell_type": "markdown",
   "metadata": {},
   "source": [
    "## 3. Scale current h3 resolution to the target resolution\n",
    "\n",
    "scale up the h3 index to the target resolution, the `process_from_h3()` function will do this job.\n",
    "\n",
    "NOTE: The `source_resolution` must be greater than the `target_resolution`, otherwise the result will be wrong."
   ]
  },
  {
   "cell_type": "code",
   "execution_count": 12,
   "metadata": {},
   "outputs": [
    {
     "data": {
      "text/html": [
       "<div><style>\n",
       ".dataframe > thead > tr,\n",
       ".dataframe > tbody > tr {\n",
       "  text-align: right;\n",
       "  white-space: pre-wrap;\n",
       "}\n",
       "</style>\n",
       "<small>shape: (5, 2)</small><table border=\"1\" class=\"dataframe\"><thead><tr><th>hex_id</th><th>p_cnt</th></tr><tr><td>str</td><td>f64</td></tr></thead><tbody><tr><td>&quot;8a4ba0a4ec27fff&quot;</td><td>775.022727</td></tr><tr><td>&quot;8a4ba0a5dacffff&quot;</td><td>323.435867</td></tr><tr><td>&quot;8a4ba0a430a7fff&quot;</td><td>887.226587</td></tr><tr><td>&quot;8a4ba0a5da47fff&quot;</td><td>680.025541</td></tr><tr><td>&quot;8a4ba0a416cffff&quot;</td><td>380.939899</td></tr></tbody></table></div>"
      ],
      "text/plain": [
       "shape: (5, 2)\n",
       "┌─────────────────┬────────────┐\n",
       "│ hex_id          ┆ p_cnt      │\n",
       "│ ---             ┆ ---        │\n",
       "│ str             ┆ f64        │\n",
       "╞═════════════════╪════════════╡\n",
       "│ 8a4ba0a4ec27fff ┆ 775.022727 │\n",
       "│ 8a4ba0a5dacffff ┆ 323.435867 │\n",
       "│ 8a4ba0a430a7fff ┆ 887.226587 │\n",
       "│ 8a4ba0a5da47fff ┆ 680.025541 │\n",
       "│ 8a4ba0a416cffff ┆ 380.939899 │\n",
       "└─────────────────┴────────────┘"
      ]
     },
     "execution_count": 12,
     "metadata": {},
     "output_type": "execute_result"
    }
   ],
   "source": [
    "from h3_toolkit import H3Toolkit\n",
    "from h3_toolkit.aggregation import SumUp\n",
    "\n",
    "toolkit = H3Toolkit()\n",
    "\n",
    "result = (\n",
    "    toolkit\n",
    "    .set_aggregation_strategy(\n",
    "        {\n",
    "            'p_cnt' : SumUp(),\n",
    "        }\n",
    "    )\n",
    "    .process_from_h3(\n",
    "        output_df,\n",
    "        source_resolution=12,\n",
    "        target_resolution=10,\n",
    "        h3_col='hex_id'\n",
    "    )\n",
    ")\n",
    "\n",
    "output_df_10 = result.get_result()\n",
    "output_df_10.head()"
   ]
  },
  {
   "cell_type": "markdown",
   "metadata": {},
   "source": [
    "Now, you are successfully scale up the data from resolution 12 to 10."
   ]
  },
  {
   "cell_type": "markdown",
   "metadata": {},
   "source": [
    "The benefit of H3Toolkit is that you can chain all the functions together, it's much simple and maintainable. and make the process logic more clear!"
   ]
  },
  {
   "cell_type": "code",
   "execution_count": 13,
   "metadata": {},
   "outputs": [
    {
     "data": {
      "text/html": [
       "<div><style>\n",
       ".dataframe > thead > tr,\n",
       ".dataframe > tbody > tr {\n",
       "  text-align: right;\n",
       "  white-space: pre-wrap;\n",
       "}\n",
       "</style>\n",
       "<small>shape: (5, 3)</small><table border=\"1\" class=\"dataframe\"><thead><tr><th>hex_id</th><th>p_cnt</th><th>h_cnt</th></tr><tr><td>str</td><td>f64</td><td>f64</td></tr></thead><tbody><tr><td>&quot;8a4ba0a43447fff&quot;</td><td>311.525452</td><td>127.492611</td></tr><tr><td>&quot;8a4ba0a5d327fff&quot;</td><td>1.17162</td><td>0.455148</td></tr><tr><td>&quot;8a4ba0a4145ffff&quot;</td><td>120.105263</td><td>55.815789</td></tr><tr><td>&quot;8a4ba0a43857fff&quot;</td><td>219.388889</td><td>84.111111</td></tr><tr><td>&quot;8a4ba0a5d927fff&quot;</td><td>977.337496</td><td>346.946087</td></tr></tbody></table></div>"
      ],
      "text/plain": [
       "shape: (5, 3)\n",
       "┌─────────────────┬────────────┬────────────┐\n",
       "│ hex_id          ┆ p_cnt      ┆ h_cnt      │\n",
       "│ ---             ┆ ---        ┆ ---        │\n",
       "│ str             ┆ f64        ┆ f64        │\n",
       "╞═════════════════╪════════════╪════════════╡\n",
       "│ 8a4ba0a43447fff ┆ 311.525452 ┆ 127.492611 │\n",
       "│ 8a4ba0a5d327fff ┆ 1.17162    ┆ 0.455148   │\n",
       "│ 8a4ba0a4145ffff ┆ 120.105263 ┆ 55.815789  │\n",
       "│ 8a4ba0a43857fff ┆ 219.388889 ┆ 84.111111  │\n",
       "│ 8a4ba0a5d927fff ┆ 977.337496 ┆ 346.946087 │\n",
       "└─────────────────┴────────────┴────────────┘"
      ]
     },
     "execution_count": 13,
     "metadata": {},
     "output_type": "execute_result"
    }
   ],
   "source": [
    "toolkit = H3Toolkit()\n",
    "\n",
    "result = (\n",
    "    toolkit\n",
    "    .set_aggregation_strategy(\n",
    "        {\n",
    "            ('p_cnt', 'h_cnt') : SplitEqually(agg_col='codebase'),\n",
    "        }\n",
    "    )\n",
    "    .process_from_vector(data, resolution=12, geometry_col='geometry')\n",
    "    .set_aggregation_strategy(\n",
    "        {\n",
    "            ('p_cnt', 'h_cnt') : SumUp(),\n",
    "        }\n",
    "    )\n",
    "    .process_from_h3(\n",
    "        source_resolution=12,\n",
    "        target_resolution=10,\n",
    "        h3_col='hex_id'\n",
    "    )\n",
    "    .get_result()\n",
    ")\n",
    "\n",
    "result.head()"
   ]
  },
  {
   "cell_type": "markdown",
   "metadata": {},
   "source": [
    "### Store data in parquet format\n",
    "- Why parquet?"
   ]
  },
  {
   "cell_type": "markdown",
   "metadata": {},
   "source": [
    "## 4. Visualization\n",
    "There are some packages can let you visualize the h3 data without converting it to the geometry object, such as `keplergl` and `pydeck`. This example will show you how to use `pydeck` to visualize the h3 data."
   ]
  },
  {
   "cell_type": "code",
   "execution_count": 30,
   "metadata": {},
   "outputs": [],
   "source": [
    "import mapclassify as mc\n",
    "import pandas as pd\n",
    "import pydeck as pdk\n",
    "from matplotlib import colormaps\n",
    "\n",
    "INITIAL_VIEW_STATE = {\n",
    "    'latitude':25.0307167767897,\n",
    "    'longitude':121.5359704226339,\n",
    "    'zoom':13,\n",
    "    'max_zoom':16,\n",
    "    'pitch':0,\n",
    "    'bearing':0\n",
    "}"
   ]
  },
  {
   "cell_type": "code",
   "execution_count": 31,
   "metadata": {},
   "outputs": [],
   "source": [
    "def _set_color(\n",
    "    data:pl.DataFrame | gpd.GeoDataFrame,\n",
    "    target_col:str,\n",
    ") -> pd.DataFrame | gpd.GeoDataFrame:\n",
    "    \"\"\"set color column for data based on target_col\n",
    "    \"\"\"\n",
    "\n",
    "    # change this classifier to fit your data\n",
    "    classifier = mc.NaturalBreaks(data[target_col], k=5)\n",
    "    cmap = colormaps.get_cmap('Oranges')\n",
    "\n",
    "    if isinstance(data, pl.DataFrame):\n",
    "        data = data.to_pandas()\n",
    "    data['interval'] = classifier.find_bin(data[target_col])\n",
    "    data['color'] = data['interval'].apply(lambda x: cmap(x / data['interval'].max()))\n",
    "    data['color'] = data['color'].apply(lambda c: [int(255 * i) for i in c[:3]] + [255])\n",
    "    data = data.drop(columns='interval')\n",
    "\n",
    "    return data\n",
    "\n",
    "\n",
    "def show_h3(\n",
    "    data:pl.DataFrame,\n",
    "    target_col:str,\n",
    "    h3_col='hex_id'\n",
    "):\n",
    "    \"\"\"show h3 hexagon layer\n",
    "    \"\"\"\n",
    "\n",
    "    data = data.clone()\n",
    "    data = _set_color(data, target_col)\n",
    "    data = data.to_dict(orient='records')\n",
    "\n",
    "    layer_h3 = pdk.Layer(\n",
    "        'H3HexagonLayer',\n",
    "        data,\n",
    "        get_fill_color='color',\n",
    "        # get_line_color=[255, 255, 255],\n",
    "        # get_elevation='p_cnt',\n",
    "        get_hexagon=h3_col,\n",
    "        pickable=True,\n",
    "        opacity=0.4,\n",
    "        stroked=False,\n",
    "        filled=True,\n",
    "        extruded=False,\n",
    "    )\n",
    "\n",
    "    r = pdk.Deck(\n",
    "        layers=[layer_h3],\n",
    "        initial_view_state=pdk.ViewState(**INITIAL_VIEW_STATE),\n",
    "        tooltip={\"text\": f\"{target_col}: {{{target_col}}}\"}\n",
    "    )\n",
    "    return r"
   ]
  },
  {
   "cell_type": "code",
   "execution_count": null,
   "metadata": {},
   "outputs": [],
   "source": [
    "show_h3(output_df, 'p_cnt')"
   ]
  },
  {
   "cell_type": "markdown",
   "metadata": {},
   "source": [
    "Due to performance limitations when rendering large H3 datasets on the web, here’s a screenshot example of the visualization. For an interactive map, you can clone the notebook and run it locally in your environment\n",
    "\n",
    "\n",
    "![res12](./img/01-1.png)"
   ]
  },
  {
   "cell_type": "code",
   "execution_count": null,
   "metadata": {},
   "outputs": [],
   "source": [
    "show_h3(output_df_10, 'p_cnt')"
   ]
  },
  {
   "cell_type": "markdown",
   "metadata": {},
   "source": [
    "Due to performance limitations when rendering large H3 datasets on the web, here’s a screenshot example of the visualization. For an interactive map, you can clone the notebook and run it locally in your environment\n",
    "\n",
    "\n",
    "![res10](./img/01-2.png)"
   ]
  },
  {
   "cell_type": "markdown",
   "metadata": {},
   "source": [
    "It's not recommended using `pydeck` or `kepler.gl` to visualize the h3 data if the data is too large, because the h3 data is too dense to visualize, it will be very slow and may crash.\n",
    "\n",
    "The better way to visual large dataset is using `lonboard`, but this package is not support the h3 data yet, so you should convert the h3 data to the geometry data before visualizing it."
   ]
  },
  {
   "cell_type": "code",
   "execution_count": null,
   "metadata": {},
   "outputs": [],
   "source": [
    "## TODO: Use case of lonborad"
   ]
  },
  {
   "cell_type": "markdown",
   "metadata": {},
   "source": [
    "## 5. Customize the aggregation function\n",
    "\n",
    "We provided some popular aggregation methods for doing the aggregation, read the `h3_toolkit.aggregation` class to get more information.\n",
    "\n",
    "But you can also custom your specific aggregation function by yourself, just define a function that inherit from the `AggregationStrategy` class and implement the `apply()` function.\n"
   ]
  },
  {
   "cell_type": "code",
   "execution_count": 11,
   "metadata": {},
   "outputs": [
    {
     "data": {
      "text/plain": [
       "<h3_toolkit.core.H3Toolkit at 0x31ea1bbc0>"
      ]
     },
     "execution_count": 11,
     "metadata": {},
     "output_type": "execute_result"
    }
   ],
   "source": [
    "from h3_toolkit import H3Toolkit\n",
    "from h3_toolkit.aggregation import AggregationStrategy\n",
    "\n",
    "\n",
    "class NewAggregationStrategy(AggregationStrategy):\n",
    "    \"\"\"\n",
    "    Make sure to inherit from AggregationStrategy and implement the apply method\n",
    "    with data and target_cols attributes.\n",
    "    \"\"\"\n",
    "    def __init__(self, new_var):\n",
    "        \"\"\"\n",
    "        If you want to pass some parameters to the strategy, you can do it here.\n",
    "        \"\"\"\n",
    "        self.new_var = new_var\n",
    "\n",
    "\n",
    "    def apply(data:pl.DataFrame, target_cols:list[str]) -> pl.DataFrame:\n",
    "        \"\"\"\n",
    "        If you are not familiar with polars, you can use pandas instead.\n",
    "        just make sure to convert the type to polars dataframe before returning it.\n",
    "        >>> data = data.to_pandas()\n",
    "        >>> ...\n",
    "        >>> ...\n",
    "        >>> ...\n",
    "        >>> return pl.from_pandas(data)\n",
    "        \"\"\"\n",
    "        pass\n",
    "\n",
    "\n",
    "toolkit = H3Toolkit()\n",
    "toolkit.set_aggregation_strategy(\n",
    "    {\n",
    "        ('col_name', '...') : NewAggregationStrategy(new_var='...'),\n",
    "    }\n",
    ")"
   ]
  }
 ],
 "metadata": {
  "kernelspec": {
   "display_name": ".venv",
   "language": "python",
   "name": "python3"
  },
  "language_info": {
   "codemirror_mode": {
    "name": "ipython",
    "version": 3
   },
   "file_extension": ".py",
   "mimetype": "text/x-python",
   "name": "python",
   "nbconvert_exporter": "python",
   "pygments_lexer": "ipython3",
   "version": "3.12.2"
  }
 },
 "nbformat": 4,
 "nbformat_minor": 2
}
