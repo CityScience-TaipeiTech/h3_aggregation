{
 "cells": [
  {
   "cell_type": "code",
   "execution_count": 8,
   "metadata": {},
   "outputs": [],
   "source": [
    "import os\n",
    "\n",
    "import geopandas as gpd\n",
    "import polars as pl\n",
    "from dotenv import load_dotenv\n",
    "from sqlalchemy import create_engine\n",
    "import nest_asyncio\n",
    "\n",
    "load_dotenv()\n",
    "nest_asyncio.apply() \n",
    "URI = os.getenv(\"POSTGRES\")\n",
    "FETCH_API = os.getenv(\"HBASE_FETCH_API\")\n",
    "SEND_API = os.getenv(\"HBASE_SEND_API\")"
   ]
  },
  {
   "cell_type": "code",
   "execution_count": 12,
   "metadata": {},
   "outputs": [
    {
     "name": "stderr",
     "output_type": "stream",
     "text": [
      "/Users/syuanbo/Documents/Project/h3-aggregation/.venv/lib/python3.12/site-packages/geopandas/io/sql.py:185: UserWarning: pandas only supports SQLAlchemy connectable (engine/connection) or database string URI or sqlite3 DBAPI2 connection. Other DBAPI2 objects are not tested. Please consider using SQLAlchemy.\n",
      "  df = pd.read_sql(\n",
      "/Users/syuanbo/Documents/Project/h3-aggregation/.venv/lib/python3.12/site-packages/geopandas/io/sql.py:473: UserWarning: pandas only supports SQLAlchemy connectable (engine/connection) or database string URI or sqlite3 DBAPI2 connection. Other DBAPI2 objects are not tested. Please consider using SQLAlchemy.\n",
      "  return pd.read_sql(spatial_ref_sys_sql, con)\n"
     ]
    }
   ],
   "source": [
    "sql = \"\"\"\n",
    "select *\n",
    "from geometry.boundary_town\n",
    "where city_name = %(city_code)s and town_name = '大安區'\n",
    "\"\"\"\n",
    "\n",
    "engine = create_engine(URI)\n",
    "with engine.connect() as conn:\n",
    "    gdf = gpd.read_postgis(\n",
    "        sql,\n",
    "        con=conn.connection,\n",
    "        geom_col='geometry',\n",
    "        params={'city_code': '臺北市'} # 台北市\n",
    "    )"
   ]
  },
  {
   "cell_type": "code",
   "execution_count": 16,
   "metadata": {},
   "outputs": [],
   "source": [
    "from h3_toolkit import H3Toolkit\n",
    "from h3_toolkit.hbase import HBaseClient\n",
    "\n",
    "\n",
    "toolkit = H3Toolkit()\n",
    "\n",
    "result = (\n",
    "    toolkit\n",
    "    .set_hbase_client(\n",
    "        HBaseClient(\n",
    "            fetch_url = FETCH_API,\n",
    "            send_url = SEND_API\n",
    "        )\n",
    "    )\n",
    "    .process_from_vector(gdf, resolution=12)\n",
    "    .fetch_from_hbase(\n",
    "        table_name='res12_pre_data',\n",
    "        column_family='overture_roads',\n",
    "        column_qualifier=['total_count']\n",
    "    )\n",
    "    .get_result()\n",
    ")"
   ]
  },
  {
   "cell_type": "code",
   "execution_count": 17,
   "metadata": {},
   "outputs": [],
   "source": [
    "import mapclassify as mc\n",
    "import pandas as pd\n",
    "import pydeck as pdk\n",
    "from matplotlib import colormaps\n",
    "\n",
    "INITIAL_VIEW_STATE = {\n",
    "    'latitude':25.0307167767897,\n",
    "    'longitude':121.5359704226339,\n",
    "    'zoom':13,\n",
    "    'max_zoom':16,\n",
    "    'pitch':0,\n",
    "    'bearing':0\n",
    "}"
   ]
  },
  {
   "cell_type": "code",
   "execution_count": 18,
   "metadata": {},
   "outputs": [],
   "source": [
    "def _set_color(\n",
    "    data:pl.DataFrame | gpd.GeoDataFrame,\n",
    "    target_col:str,\n",
    ") -> pd.DataFrame | gpd.GeoDataFrame:\n",
    "    \"\"\"set color column for data based on target_col\n",
    "    \"\"\"\n",
    "\n",
    "    # change this classifier to fit your data\n",
    "    classifier = mc.NaturalBreaks(data[target_col], k=5)\n",
    "    cmap = colormaps.get_cmap('Oranges')\n",
    "\n",
    "    if isinstance(data, pl.DataFrame):\n",
    "        data = data.to_pandas()\n",
    "    data['interval'] = classifier.find_bin(data[target_col])\n",
    "    data['color'] = data['interval'].apply(lambda x: cmap(x / data['interval'].max()))\n",
    "    data['color'] = data['color'].apply(lambda c: [int(255 * i) for i in c[:3]] + [255])\n",
    "    data = data.drop(columns='interval')\n",
    "\n",
    "    return data\n",
    "\n",
    "\n",
    "def show_h3(\n",
    "    data:pl.DataFrame,\n",
    "    target_col:str,\n",
    "    h3_col='hex_id'\n",
    "):\n",
    "    \"\"\"show h3 hexagon layer\n",
    "    \"\"\"\n",
    "\n",
    "    data = data.clone()\n",
    "    data = _set_color(data, target_col)\n",
    "    data = data.to_dict(orient='records')\n",
    "\n",
    "    layer_h3 = pdk.Layer(\n",
    "        'H3HexagonLayer',\n",
    "        data,\n",
    "        get_fill_color='color',\n",
    "        # get_line_color=[255, 255, 255],\n",
    "        # get_elevation='p_cnt',\n",
    "        get_hexagon=h3_col,\n",
    "        pickable=True,\n",
    "        opacity=0.4,\n",
    "        stroked=False,\n",
    "        filled=True,\n",
    "        extruded=False,\n",
    "    )\n",
    "\n",
    "    r = pdk.Deck(\n",
    "        layers=[layer_h3],\n",
    "        initial_view_state=pdk.ViewState(**INITIAL_VIEW_STATE),\n",
    "        tooltip={\"text\": f\"{target_col}: {{{target_col}}}\"}\n",
    "    )\n",
    "    return r"
   ]
  },
  {
   "cell_type": "code",
   "execution_count": 19,
   "metadata": {},
   "outputs": [
    {
     "ename": "UFuncTypeError",
     "evalue": "ufunc 'multiply' did not contain a loop with signature matching types (dtype('<U3'), dtype('float64')) -> None",
     "output_type": "error",
     "traceback": [
      "\u001b[0;31m---------------------------------------------------------------------------\u001b[0m",
      "\u001b[0;31mUFuncTypeError\u001b[0m                            Traceback (most recent call last)",
      "Cell \u001b[0;32mIn[19], line 1\u001b[0m\n\u001b[0;32m----> 1\u001b[0m \u001b[43mshow_h3\u001b[49m\u001b[43m(\u001b[49m\u001b[43mresult\u001b[49m\u001b[43m,\u001b[49m\u001b[43m \u001b[49m\u001b[38;5;124;43m'\u001b[39;49m\u001b[38;5;124;43mtotal_count\u001b[39;49m\u001b[38;5;124;43m'\u001b[39;49m\u001b[43m)\u001b[49m\n",
      "Cell \u001b[0;32mIn[18], line 31\u001b[0m, in \u001b[0;36mshow_h3\u001b[0;34m(data, target_col, h3_col)\u001b[0m\n\u001b[1;32m     27\u001b[0m \u001b[38;5;250m\u001b[39m\u001b[38;5;124;03m\"\"\"show h3 hexagon layer\u001b[39;00m\n\u001b[1;32m     28\u001b[0m \u001b[38;5;124;03m\"\"\"\u001b[39;00m\n\u001b[1;32m     30\u001b[0m data \u001b[38;5;241m=\u001b[39m data\u001b[38;5;241m.\u001b[39mclone()\n\u001b[0;32m---> 31\u001b[0m data \u001b[38;5;241m=\u001b[39m \u001b[43m_set_color\u001b[49m\u001b[43m(\u001b[49m\u001b[43mdata\u001b[49m\u001b[43m,\u001b[49m\u001b[43m \u001b[49m\u001b[43mtarget_col\u001b[49m\u001b[43m)\u001b[49m\n\u001b[1;32m     32\u001b[0m data \u001b[38;5;241m=\u001b[39m data\u001b[38;5;241m.\u001b[39mto_dict(orient\u001b[38;5;241m=\u001b[39m\u001b[38;5;124m'\u001b[39m\u001b[38;5;124mrecords\u001b[39m\u001b[38;5;124m'\u001b[39m)\n\u001b[1;32m     34\u001b[0m layer_h3 \u001b[38;5;241m=\u001b[39m pdk\u001b[38;5;241m.\u001b[39mLayer(\n\u001b[1;32m     35\u001b[0m     \u001b[38;5;124m'\u001b[39m\u001b[38;5;124mH3HexagonLayer\u001b[39m\u001b[38;5;124m'\u001b[39m,\n\u001b[1;32m     36\u001b[0m     data,\n\u001b[0;32m   (...)\u001b[0m\n\u001b[1;32m     45\u001b[0m     extruded\u001b[38;5;241m=\u001b[39m\u001b[38;5;28;01mFalse\u001b[39;00m,\n\u001b[1;32m     46\u001b[0m )\n",
      "Cell \u001b[0;32mIn[18], line 9\u001b[0m, in \u001b[0;36m_set_color\u001b[0;34m(data, target_col)\u001b[0m\n\u001b[1;32m      5\u001b[0m \u001b[38;5;250m\u001b[39m\u001b[38;5;124;03m\"\"\"set color column for data based on target_col\u001b[39;00m\n\u001b[1;32m      6\u001b[0m \u001b[38;5;124;03m\"\"\"\u001b[39;00m\n\u001b[1;32m      8\u001b[0m \u001b[38;5;66;03m# change this classifier to fit your data\u001b[39;00m\n\u001b[0;32m----> 9\u001b[0m classifier \u001b[38;5;241m=\u001b[39m \u001b[43mmc\u001b[49m\u001b[38;5;241;43m.\u001b[39;49m\u001b[43mNaturalBreaks\u001b[49m\u001b[43m(\u001b[49m\u001b[43mdata\u001b[49m\u001b[43m[\u001b[49m\u001b[43mtarget_col\u001b[49m\u001b[43m]\u001b[49m\u001b[43m,\u001b[49m\u001b[43m \u001b[49m\u001b[43mk\u001b[49m\u001b[38;5;241;43m=\u001b[39;49m\u001b[38;5;241;43m5\u001b[39;49m\u001b[43m)\u001b[49m\n\u001b[1;32m     10\u001b[0m cmap \u001b[38;5;241m=\u001b[39m colormaps\u001b[38;5;241m.\u001b[39mget_cmap(\u001b[38;5;124m'\u001b[39m\u001b[38;5;124mOranges\u001b[39m\u001b[38;5;124m'\u001b[39m)\n\u001b[1;32m     12\u001b[0m \u001b[38;5;28;01mif\u001b[39;00m \u001b[38;5;28misinstance\u001b[39m(data, pl\u001b[38;5;241m.\u001b[39mDataFrame):\n",
      "File \u001b[0;32m~/Documents/Project/h3-aggregation/.venv/lib/python3.12/site-packages/mapclassify/classifiers.py:1930\u001b[0m, in \u001b[0;36mNaturalBreaks.__init__\u001b[0;34m(self, y, k, initial)\u001b[0m\n\u001b[1;32m   1928\u001b[0m \u001b[38;5;28mself\u001b[39m\u001b[38;5;241m.\u001b[39mk \u001b[38;5;241m=\u001b[39m k\n\u001b[1;32m   1929\u001b[0m \u001b[38;5;28mself\u001b[39m\u001b[38;5;241m.\u001b[39minit \u001b[38;5;241m=\u001b[39m initial\n\u001b[0;32m-> 1930\u001b[0m \u001b[43mMapClassifier\u001b[49m\u001b[38;5;241;43m.\u001b[39;49m\u001b[38;5;21;43m__init__\u001b[39;49m\u001b[43m(\u001b[49m\u001b[38;5;28;43mself\u001b[39;49m\u001b[43m,\u001b[49m\u001b[43m \u001b[49m\u001b[43my\u001b[49m\u001b[43m)\u001b[49m\n\u001b[1;32m   1931\u001b[0m \u001b[38;5;28mself\u001b[39m\u001b[38;5;241m.\u001b[39mname \u001b[38;5;241m=\u001b[39m \u001b[38;5;124m\"\u001b[39m\u001b[38;5;124mNaturalBreaks\u001b[39m\u001b[38;5;124m\"\u001b[39m\n",
      "File \u001b[0;32m~/Documents/Project/h3-aggregation/.venv/lib/python3.12/site-packages/mapclassify/classifiers.py:687\u001b[0m, in \u001b[0;36mMapClassifier.__init__\u001b[0;34m(self, y)\u001b[0m\n\u001b[1;32m    685\u001b[0m \u001b[38;5;28mself\u001b[39m\u001b[38;5;241m.\u001b[39mfmt \u001b[38;5;241m=\u001b[39m FMT\n\u001b[1;32m    686\u001b[0m \u001b[38;5;28mself\u001b[39m\u001b[38;5;241m.\u001b[39my \u001b[38;5;241m=\u001b[39m y\n\u001b[0;32m--> 687\u001b[0m \u001b[38;5;28;43mself\u001b[39;49m\u001b[38;5;241;43m.\u001b[39;49m\u001b[43m_classify\u001b[49m\u001b[43m(\u001b[49m\u001b[43m)\u001b[49m\n\u001b[1;32m    688\u001b[0m \u001b[38;5;28mself\u001b[39m\u001b[38;5;241m.\u001b[39m_summary()\n",
      "File \u001b[0;32m~/Documents/Project/h3-aggregation/.venv/lib/python3.12/site-packages/mapclassify/classifiers.py:706\u001b[0m, in \u001b[0;36mMapClassifier._classify\u001b[0;34m(self)\u001b[0m\n\u001b[1;32m    705\u001b[0m \u001b[38;5;28;01mdef\u001b[39;00m \u001b[38;5;21m_classify\u001b[39m(\u001b[38;5;28mself\u001b[39m):\n\u001b[0;32m--> 706\u001b[0m     \u001b[38;5;28;43mself\u001b[39;49m\u001b[38;5;241;43m.\u001b[39;49m\u001b[43m_set_bins\u001b[49m\u001b[43m(\u001b[49m\u001b[43m)\u001b[49m\n\u001b[1;32m    707\u001b[0m     \u001b[38;5;28mself\u001b[39m\u001b[38;5;241m.\u001b[39myb, \u001b[38;5;28mself\u001b[39m\u001b[38;5;241m.\u001b[39mcounts \u001b[38;5;241m=\u001b[39m bin1d(\u001b[38;5;28mself\u001b[39m\u001b[38;5;241m.\u001b[39my, \u001b[38;5;28mself\u001b[39m\u001b[38;5;241m.\u001b[39mbins)\n",
      "File \u001b[0;32m~/Documents/Project/h3-aggregation/.venv/lib/python3.12/site-packages/mapclassify/classifiers.py:1953\u001b[0m, in \u001b[0;36mNaturalBreaks._set_bins\u001b[0;34m(self)\u001b[0m\n\u001b[1;32m   1951\u001b[0m     \u001b[38;5;28mself\u001b[39m\u001b[38;5;241m.\u001b[39mk \u001b[38;5;241m=\u001b[39m k\n\u001b[1;32m   1952\u001b[0m \u001b[38;5;28;01melse\u001b[39;00m:\n\u001b[0;32m-> 1953\u001b[0m     res0 \u001b[38;5;241m=\u001b[39m \u001b[43mnatural_breaks\u001b[49m\u001b[43m(\u001b[49m\u001b[43mx\u001b[49m\u001b[43m,\u001b[49m\u001b[43m \u001b[49m\u001b[43mk\u001b[49m\u001b[43m,\u001b[49m\u001b[43m \u001b[49m\u001b[43minit\u001b[49m\u001b[38;5;241;43m=\u001b[39;49m\u001b[38;5;28;43mself\u001b[39;49m\u001b[38;5;241;43m.\u001b[39;49m\u001b[43minit\u001b[49m\u001b[43m)\u001b[49m\n\u001b[1;32m   1954\u001b[0m     \u001b[38;5;28mself\u001b[39m\u001b[38;5;241m.\u001b[39mbins \u001b[38;5;241m=\u001b[39m np\u001b[38;5;241m.\u001b[39marray(res0[\u001b[38;5;241m-\u001b[39m\u001b[38;5;241m1\u001b[39m])\n\u001b[1;32m   1955\u001b[0m     \u001b[38;5;28mself\u001b[39m\u001b[38;5;241m.\u001b[39mk \u001b[38;5;241m=\u001b[39m \u001b[38;5;28mlen\u001b[39m(\u001b[38;5;28mself\u001b[39m\u001b[38;5;241m.\u001b[39mbins)\n",
      "File \u001b[0;32m~/Documents/Project/h3-aggregation/.venv/lib/python3.12/site-packages/mapclassify/classifiers.py:576\u001b[0m, in \u001b[0;36mnatural_breaks\u001b[0;34m(values, k, init)\u001b[0m\n\u001b[1;32m    569\u001b[0m     warnings\u001b[38;5;241m.\u001b[39mwarn(\n\u001b[1;32m    570\u001b[0m         \u001b[38;5;124mf\u001b[39m\u001b[38;5;124m\"\u001b[39m\u001b[38;5;124mNot enough unique values in array to form \u001b[39m\u001b[38;5;132;01m{\u001b[39;00mk\u001b[38;5;132;01m}\u001b[39;00m\u001b[38;5;124m classes. \u001b[39m\u001b[38;5;124m\"\u001b[39m\n\u001b[1;32m    571\u001b[0m         \u001b[38;5;124mf\u001b[39m\u001b[38;5;124m\"\u001b[39m\u001b[38;5;124mSetting k to \u001b[39m\u001b[38;5;132;01m{\u001b[39;00muvk\u001b[38;5;132;01m}\u001b[39;00m\u001b[38;5;124m.\u001b[39m\u001b[38;5;124m\"\u001b[39m,\n\u001b[1;32m    572\u001b[0m         \u001b[38;5;167;01mUserWarning\u001b[39;00m,\n\u001b[1;32m    573\u001b[0m         stacklevel\u001b[38;5;241m=\u001b[39m\u001b[38;5;241m2\u001b[39m,\n\u001b[1;32m    574\u001b[0m     )\n\u001b[1;32m    575\u001b[0m     k \u001b[38;5;241m=\u001b[39m uvk\n\u001b[0;32m--> 576\u001b[0m kres \u001b[38;5;241m=\u001b[39m \u001b[43m_kmeans\u001b[49m\u001b[43m(\u001b[49m\u001b[43mvalues\u001b[49m\u001b[43m,\u001b[49m\u001b[43m \u001b[49m\u001b[43mk\u001b[49m\u001b[43m,\u001b[49m\u001b[43m \u001b[49m\u001b[43mn_init\u001b[49m\u001b[38;5;241;43m=\u001b[39;49m\u001b[43minit\u001b[49m\u001b[43m)\u001b[49m\n\u001b[1;32m    577\u001b[0m sids \u001b[38;5;241m=\u001b[39m kres[\u001b[38;5;241m-\u001b[39m\u001b[38;5;241m1\u001b[39m]  \u001b[38;5;66;03m# centroids\u001b[39;00m\n\u001b[1;32m    578\u001b[0m fit \u001b[38;5;241m=\u001b[39m kres[\u001b[38;5;241m-\u001b[39m\u001b[38;5;241m2\u001b[39m]\n",
      "File \u001b[0;32m~/Documents/Project/h3-aggregation/.venv/lib/python3.12/site-packages/mapclassify/classifiers.py:527\u001b[0m, in \u001b[0;36m_kmeans\u001b[0;34m(y, k, n_init)\u001b[0m\n\u001b[1;32m    511\u001b[0m \u001b[38;5;28;01mdef\u001b[39;00m \u001b[38;5;21m_kmeans\u001b[39m(y, k\u001b[38;5;241m=\u001b[39m\u001b[38;5;241m5\u001b[39m, n_init\u001b[38;5;241m=\u001b[39m\u001b[38;5;241m10\u001b[39m):\n\u001b[1;32m    512\u001b[0m \u001b[38;5;250m    \u001b[39m\u001b[38;5;124;03m\"\"\"\u001b[39;00m\n\u001b[1;32m    513\u001b[0m \u001b[38;5;124;03m    Helper function to do k-means in one dimension.\u001b[39;00m\n\u001b[1;32m    514\u001b[0m \n\u001b[0;32m   (...)\u001b[0m\n\u001b[1;32m    524\u001b[0m \n\u001b[1;32m    525\u001b[0m \u001b[38;5;124;03m    \"\"\"\u001b[39;00m\n\u001b[0;32m--> 527\u001b[0m     y \u001b[38;5;241m=\u001b[39m \u001b[43my\u001b[49m\u001b[43m \u001b[49m\u001b[38;5;241;43m*\u001b[39;49m\u001b[43m \u001b[49m\u001b[38;5;241;43m1.0\u001b[39;49m  \u001b[38;5;66;03m# sklearn.cluster.KMeans needs float or double dtype\u001b[39;00m\n\u001b[1;32m    528\u001b[0m     y\u001b[38;5;241m.\u001b[39mshape \u001b[38;5;241m=\u001b[39m (\u001b[38;5;241m-\u001b[39m\u001b[38;5;241m1\u001b[39m, \u001b[38;5;241m1\u001b[39m)\n\u001b[1;32m    529\u001b[0m     result \u001b[38;5;241m=\u001b[39m KMeans(n_clusters\u001b[38;5;241m=\u001b[39mk, init\u001b[38;5;241m=\u001b[39m\u001b[38;5;124m\"\u001b[39m\u001b[38;5;124mk-means++\u001b[39m\u001b[38;5;124m\"\u001b[39m, n_init\u001b[38;5;241m=\u001b[39mn_init)\u001b[38;5;241m.\u001b[39mfit(y)\n",
      "\u001b[0;31mUFuncTypeError\u001b[0m: ufunc 'multiply' did not contain a loop with signature matching types (dtype('<U3'), dtype('float64')) -> None"
     ]
    }
   ],
   "source": [
    "show_h3(result, 'total_count')"
   ]
  },
  {
   "cell_type": "code",
   "execution_count": null,
   "metadata": {},
   "outputs": [],
   "source": []
  }
 ],
 "metadata": {
  "kernelspec": {
   "display_name": ".venv",
   "language": "python",
   "name": "python3"
  },
  "language_info": {
   "codemirror_mode": {
    "name": "ipython",
    "version": 3
   },
   "file_extension": ".py",
   "mimetype": "text/x-python",
   "name": "python",
   "nbconvert_exporter": "python",
   "pygments_lexer": "ipython3",
   "version": "3.12.2"
  }
 },
 "nbformat": 4,
 "nbformat_minor": 2
}
